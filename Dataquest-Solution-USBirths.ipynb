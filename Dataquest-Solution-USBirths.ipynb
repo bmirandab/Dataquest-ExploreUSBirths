{
 "cells": [
  {
   "cell_type": "code",
   "execution_count": 1,
   "metadata": {
    "collapsed": true
   },
   "outputs": [],
   "source": [
    "def read_csv(filename):\n",
    "    string_data = open(filename).read()\n",
    "    string_list = string_data.split(\"\\n\")[1:]\n",
    "    final_list = []\n",
    "    \n",
    "    for row in string_list:\n",
    "        string_fields = row.split(\",\")\n",
    "        int_fields = []\n",
    "        for value in string_fields:\n",
    "            int_fields.append(int(value))\n",
    "        final_list.append(int_fields)\n",
    "    return final_list\n",
    "        \n",
    "cdc_list = read_csv(\"US_births_1994-2003_CDC_NCHS.csv\")"
   ]
  },
  {
   "cell_type": "code",
   "execution_count": 2,
   "metadata": {
    "collapsed": false
   },
   "outputs": [
    {
     "data": {
      "text/plain": [
       "[[1994, 1, 1, 6, 8096],\n",
       " [1994, 1, 2, 7, 7772],\n",
       " [1994, 1, 3, 1, 10142],\n",
       " [1994, 1, 4, 2, 11248],\n",
       " [1994, 1, 5, 3, 11053],\n",
       " [1994, 1, 6, 4, 11406],\n",
       " [1994, 1, 7, 5, 11251],\n",
       " [1994, 1, 8, 6, 8653],\n",
       " [1994, 1, 9, 7, 7910],\n",
       " [1994, 1, 10, 1, 10498]]"
      ]
     },
     "execution_count": 2,
     "metadata": {},
     "output_type": "execute_result"
    }
   ],
   "source": [
    "cdc_list[0:10]"
   ]
  },
  {
   "cell_type": "code",
   "execution_count": 3,
   "metadata": {
    "collapsed": true
   },
   "outputs": [],
   "source": [
    "def month_births(listname):\n",
    "    births_per_month = {}\n",
    "    \n",
    "    for row in listname:\n",
    "        month = row[1]\n",
    "        births = row[4]\n",
    "        if month in births_per_month:\n",
    "            births_per_month[month] = births_per_month[month] + births\n",
    "        else:\n",
    "            births_per_month[month] = births        \n",
    "    return births_per_month\n",
    "\n",
    "cdc_month_births = month_births(cdc_list)  \n",
    "\n"
   ]
  },
  {
   "cell_type": "code",
   "execution_count": 4,
   "metadata": {
    "collapsed": false
   },
   "outputs": [
    {
     "data": {
      "text/plain": [
       "{1: 3232517,\n",
       " 2: 3018140,\n",
       " 3: 3322069,\n",
       " 4: 3185314,\n",
       " 5: 3350907,\n",
       " 6: 3296530,\n",
       " 7: 3498783,\n",
       " 8: 3525858,\n",
       " 9: 3439698,\n",
       " 10: 3378814,\n",
       " 11: 3171647,\n",
       " 12: 3301860}"
      ]
     },
     "execution_count": 4,
     "metadata": {},
     "output_type": "execute_result"
    }
   ],
   "source": [
    "cdc_month_births"
   ]
  },
  {
   "cell_type": "code",
   "execution_count": 5,
   "metadata": {
    "collapsed": false,
    "scrolled": true
   },
   "outputs": [],
   "source": [
    "def dow_births(listname):\n",
    "    day_of_week = {}\n",
    "    \n",
    "    for row in listname:\n",
    "        weekday = row[3]\n",
    "        births = row[4]\n",
    "        if weekday in day_of_week:\n",
    "            day_of_week[weekday] = day_of_week[weekday] + births\n",
    "        else:\n",
    "            day_of_week[weekday] = births\n",
    "    return day_of_week\n",
    "      \n",
    "        \n",
    "cdc_day_births = dow_births(cdc_list)\n"
   ]
  },
  {
   "cell_type": "code",
   "execution_count": 6,
   "metadata": {
    "collapsed": false
   },
   "outputs": [
    {
     "data": {
      "text/plain": [
       "{1: 5789166,\n",
       " 2: 6446196,\n",
       " 3: 6322855,\n",
       " 4: 6288429,\n",
       " 5: 6233657,\n",
       " 6: 4562111,\n",
       " 7: 4079723}"
      ]
     },
     "execution_count": 6,
     "metadata": {},
     "output_type": "execute_result"
    }
   ],
   "source": [
    "cdc_day_births"
   ]
  },
  {
   "cell_type": "code",
   "execution_count": 7,
   "metadata": {
    "collapsed": false
   },
   "outputs": [],
   "source": [
    "def calc_counts(filename, column):\n",
    "    births_summary = {}\n",
    "        \n",
    "    for row in filename:\n",
    "        column_number = row[column]\n",
    "        births = row[4]\n",
    "        if column_number in births_summary:\n",
    "            births_summary[column_number] = births_summary[column_number] + births\n",
    "        else:\n",
    "            births_summary[column_number] = births\n",
    "    return births_summary\n",
    "\n",
    "cdc_year_births = calc_counts(cdc_list, 0)\n",
    "cdc_month_births = calc_counts(cdc_list, 1)\n",
    "cdc_dom_births = calc_counts(cdc_list, 2)\n",
    "cdc_dow_births = calc_counts(cdc_list, 3)\n",
    "        \n",
    "        "
   ]
  },
  {
   "cell_type": "code",
   "execution_count": 8,
   "metadata": {
    "collapsed": false
   },
   "outputs": [
    {
     "data": {
      "text/plain": [
       "{1994: 3952767,\n",
       " 1995: 3899589,\n",
       " 1996: 3891494,\n",
       " 1997: 3880894,\n",
       " 1998: 3941553,\n",
       " 1999: 3959417,\n",
       " 2000: 4058814,\n",
       " 2001: 4025933,\n",
       " 2002: 4021726,\n",
       " 2003: 4089950}"
      ]
     },
     "execution_count": 8,
     "metadata": {},
     "output_type": "execute_result"
    }
   ],
   "source": [
    "cdc_year_births"
   ]
  },
  {
   "cell_type": "code",
   "execution_count": 9,
   "metadata": {
    "collapsed": false
   },
   "outputs": [
    {
     "data": {
      "text/plain": [
       "{1: 3232517,\n",
       " 2: 3018140,\n",
       " 3: 3322069,\n",
       " 4: 3185314,\n",
       " 5: 3350907,\n",
       " 6: 3296530,\n",
       " 7: 3498783,\n",
       " 8: 3525858,\n",
       " 9: 3439698,\n",
       " 10: 3378814,\n",
       " 11: 3171647,\n",
       " 12: 3301860}"
      ]
     },
     "execution_count": 9,
     "metadata": {},
     "output_type": "execute_result"
    }
   ],
   "source": [
    "cdc_month_births"
   ]
  },
  {
   "cell_type": "code",
   "execution_count": 10,
   "metadata": {
    "collapsed": false
   },
   "outputs": [
    {
     "data": {
      "text/plain": [
       "{1: 1276557,\n",
       " 2: 1288739,\n",
       " 3: 1304499,\n",
       " 4: 1288154,\n",
       " 5: 1299953,\n",
       " 6: 1304474,\n",
       " 7: 1310459,\n",
       " 8: 1312297,\n",
       " 9: 1303292,\n",
       " 10: 1320764,\n",
       " 11: 1314361,\n",
       " 12: 1318437,\n",
       " 13: 1277684,\n",
       " 14: 1320153,\n",
       " 15: 1319171,\n",
       " 16: 1315192,\n",
       " 17: 1324953,\n",
       " 18: 1326855,\n",
       " 19: 1318727,\n",
       " 20: 1324821,\n",
       " 21: 1322897,\n",
       " 22: 1317381,\n",
       " 23: 1293290,\n",
       " 24: 1288083,\n",
       " 25: 1272116,\n",
       " 26: 1284796,\n",
       " 27: 1294395,\n",
       " 28: 1307685,\n",
       " 29: 1223161,\n",
       " 30: 1202095,\n",
       " 31: 746696}"
      ]
     },
     "execution_count": 10,
     "metadata": {},
     "output_type": "execute_result"
    }
   ],
   "source": [
    "cdc_dom_births"
   ]
  },
  {
   "cell_type": "code",
   "execution_count": 11,
   "metadata": {
    "collapsed": false
   },
   "outputs": [
    {
     "data": {
      "text/plain": [
       "{1: 5789166,\n",
       " 2: 6446196,\n",
       " 3: 6322855,\n",
       " 4: 6288429,\n",
       " 5: 6233657,\n",
       " 6: 4562111,\n",
       " 7: 4079723}"
      ]
     },
     "execution_count": 11,
     "metadata": {},
     "output_type": "execute_result"
    }
   ],
   "source": [
    "cdc_dow_births"
   ]
  },
  {
   "cell_type": "code",
   "execution_count": 12,
   "metadata": {
    "collapsed": false
   },
   "outputs": [],
   "source": [
    "def calc_minmax(dictionary, time_unit):\n",
    "    minmax_dict = []\n",
    "    \n",
    "    maximum = max(dictionary.keys(), key = (lambda k: dictionary[k]))\n",
    "    minimum = min(dictionary.keys(), key = (lambda k: dictionary[k]))\n",
    "    minmax_dict.append({\n",
    "        \"max_births\":dictionary[maximum],\n",
    "        \"max_time\": maximum,\n",
    "        \"time_unit\": time_unit\n",
    "              })\n",
    "    minmax_dict.append({\n",
    "        \"min_births\": dictionary[minimum],\n",
    "        \"min_time\": minimum,\n",
    "        \"time_unit\": time_unit\n",
    "                })\n",
    "    return minmax_dict\n",
    "\n",
    "minmax_cdc_year_births = calc_minmax(cdc_year_births, \"year\")\n",
    "minmax_cdc_month_births = calc_minmax(cdc_month_births, \"month\")\n",
    "minmax_cdc_dom_births = calc_minmax(cdc_dom_births, \"day\")\n",
    "minmax_cdc_dow_births = calc_minmax(cdc_dow_births, \"weekday\") \n",
    "\n"
   ]
  },
  {
   "cell_type": "code",
   "execution_count": 13,
   "metadata": {
    "collapsed": false
   },
   "outputs": [
    {
     "data": {
      "text/plain": [
       "[{'max_births': 4089950, 'max_time': 2003, 'time_unit': 'year'},\n",
       " {'min_births': 3880894, 'min_time': 1997, 'time_unit': 'year'}]"
      ]
     },
     "execution_count": 13,
     "metadata": {},
     "output_type": "execute_result"
    }
   ],
   "source": [
    "minmax_cdc_year_births"
   ]
  },
  {
   "cell_type": "code",
   "execution_count": 14,
   "metadata": {
    "collapsed": false
   },
   "outputs": [
    {
     "data": {
      "text/plain": [
       "[{'max_births': 3525858, 'max_time': 8, 'time_unit': 'month'},\n",
       " {'min_births': 3018140, 'min_time': 2, 'time_unit': 'month'}]"
      ]
     },
     "execution_count": 14,
     "metadata": {},
     "output_type": "execute_result"
    }
   ],
   "source": [
    "minmax_cdc_month_births"
   ]
  },
  {
   "cell_type": "code",
   "execution_count": 15,
   "metadata": {
    "collapsed": false
   },
   "outputs": [
    {
     "data": {
      "text/plain": [
       "[{'max_births': 1326855, 'max_time': 18, 'time_unit': 'day'},\n",
       " {'min_births': 746696, 'min_time': 31, 'time_unit': 'day'}]"
      ]
     },
     "execution_count": 15,
     "metadata": {},
     "output_type": "execute_result"
    }
   ],
   "source": [
    "minmax_cdc_dom_births"
   ]
  },
  {
   "cell_type": "code",
   "execution_count": 16,
   "metadata": {
    "collapsed": false
   },
   "outputs": [
    {
     "data": {
      "text/plain": [
       "[{'max_births': 6446196, 'max_time': 2, 'time_unit': 'weekday'},\n",
       " {'min_births': 4079723, 'min_time': 7, 'time_unit': 'weekday'}]"
      ]
     },
     "execution_count": 16,
     "metadata": {},
     "output_type": "execute_result"
    }
   ],
   "source": [
    "minmax_cdc_dow_births"
   ]
  },
  {
   "cell_type": "code",
   "execution_count": 17,
   "metadata": {
    "collapsed": false
   },
   "outputs": [],
   "source": [
    "def calc_diff(filename, date_one, date_two, column, column_value):\n",
    "    birth_rate_result = []\n",
    "    previous_birth_rate = 0\n",
    "               \n",
    "    for row in filename:\n",
    "        year = row[0]\n",
    "        current_birth_rate = row[4]\n",
    "        time_unit = row[column]\n",
    "        if year in range(date_one,date_two):\n",
    "            if time_unit is column_value:\n",
    "                birth_rate_diff = (current_birth_rate - previous_birth_rate)\n",
    "                if birth_rate_diff > 0:\n",
    "                    growth_status = \"increased\"\n",
    "                    previous_birth_rate = current_birth_rate\n",
    "                elif birth_rate_diff < 0:\n",
    "                    growth_status = \"decreased\"\n",
    "                    previous_birth_rate = current_birth_rate\n",
    "                elif birth_rate_diff == 0:\n",
    "                    growth_status = \"static\"\n",
    "                    previous_birth_rate = current_birth_rate\n",
    "    \n",
    "                birth_rate_result.append([birth_rate_diff, growth_status,row[0]])\n",
    "        \n",
    "    return birth_rate_result\n",
    "    \n",
    "        \n",
    "\n",
    "birth_rate_calc = calc_diff(cdc_list, 1994, 2003, 3, 6)\n",
    "               "
   ]
  },
  {
   "cell_type": "code",
   "execution_count": 18,
   "metadata": {
    "collapsed": false,
    "scrolled": false
   },
   "outputs": [
    {
     "data": {
      "text/plain": [
       "[[8096, 'increased', 1994],\n",
       " [557, 'increased', 1994],\n",
       " [7, 'increased', 1994],\n",
       " [173, 'increased', 1994],\n",
       " [155, 'increased', 1994],\n",
       " [3, 'increased', 1994],\n",
       " [-46, 'decreased', 1994],\n",
       " [1, 'increased', 1994],\n",
       " [42, 'increased', 1994],\n",
       " [227, 'increased', 1994]]"
      ]
     },
     "execution_count": 18,
     "metadata": {},
     "output_type": "execute_result"
    }
   ],
   "source": [
    "birth_rate_calc[0:10]"
   ]
  },
  {
   "cell_type": "code",
   "execution_count": 19,
   "metadata": {
    "collapsed": false
   },
   "outputs": [],
   "source": [
    "ssa_list = read_csv(\"US_births_2000-2014_SSA.csv\")"
   ]
  },
  {
   "cell_type": "code",
   "execution_count": 20,
   "metadata": {
    "collapsed": false
   },
   "outputs": [
    {
     "data": {
      "text/plain": [
       "[[2000, 1, 1, 6, 9083],\n",
       " [2000, 1, 2, 7, 8006],\n",
       " [2000, 1, 3, 1, 11363],\n",
       " [2000, 1, 4, 2, 13032],\n",
       " [2000, 1, 5, 3, 12558],\n",
       " [2000, 1, 6, 4, 12466],\n",
       " [2000, 1, 7, 5, 12516],\n",
       " [2000, 1, 8, 6, 8934],\n",
       " [2000, 1, 9, 7, 7949],\n",
       " [2000, 1, 10, 1, 11668]]"
      ]
     },
     "execution_count": 20,
     "metadata": {},
     "output_type": "execute_result"
    }
   ],
   "source": [
    "ssa_list[0:10]"
   ]
  },
  {
   "cell_type": "code",
   "execution_count": 21,
   "metadata": {
    "collapsed": false
   },
   "outputs": [],
   "source": [
    "def remove_duplicates(dataset_one, dataset_two):\n",
    "    clean_list = []\n",
    "    list_one = dataset_one[:]\n",
    "    list_two = dataset_two[:]\n",
    "    merged_list = []\n",
    "\n",
    "    for row_one in list_one:\n",
    "        year_one = row_one[0]\n",
    "        month_one = row_one[1]\n",
    "        dom_one = row_one[2]\n",
    "        dow_one = row_one[3]\n",
    "        births_one = row_one[4]\n",
    "        for row_two in list_two:\n",
    "            year_two = row_two[0]\n",
    "            month_two = row_two[1]\n",
    "            dom_two = row_two[2]\n",
    "            dow_two = row_two[3]\n",
    "            births_two = row_two[4]\n",
    "            if year_one == year_two and month_one == month_two and dom_one == dom_two and dow_one == dow_two:\n",
    "                avg_births = round((births_one + births_two) / 2.0)\n",
    "                new_row = [year_one, month_one, dom_one, dow_one, avg_births]\n",
    "                clean_list.append(new_row)\n",
    "                list_one_modified = list_one.remove(row_one)\n",
    "                list_two_modified = list_two.remove(row_two)\n",
    "    merged_list = list_one + list_two + clean_list\n",
    "    return merged_list\n",
    "\n"
   ]
  },
  {
   "cell_type": "code",
   "execution_count": 22,
   "metadata": {
    "collapsed": false
   },
   "outputs": [],
   "source": [
    "cdcssa_merged = remove_duplicates(cdc_list, ssa_list)"
   ]
  },
  {
   "cell_type": "code",
   "execution_count": 28,
   "metadata": {
    "collapsed": false
   },
   "outputs": [
    {
     "data": {
      "text/plain": [
       "[[2003, 3, 5, 3, 12483],\n",
       " [2003, 3, 7, 5, 12503],\n",
       " [2003, 3, 9, 7, 7387],\n",
       " [2003, 3, 11, 2, 12935],\n",
       " [2003, 3, 13, 4, 12333],\n",
       " [2003, 3, 15, 6, 8601],\n",
       " [2003, 3, 17, 1, 11990],\n",
       " [2003, 3, 19, 3, 12587],\n",
       " [2003, 3, 21, 5, 12653],\n",
       " [2003, 3, 23, 7, 7420]]"
      ]
     },
     "execution_count": 28,
     "metadata": {},
     "output_type": "execute_result"
    }
   ],
   "source": [
    "cdcssa_merged[3500:3510]"
   ]
  },
  {
   "cell_type": "code",
   "execution_count": null,
   "metadata": {
    "collapsed": true
   },
   "outputs": [],
   "source": []
  }
 ],
 "metadata": {
  "anaconda-cloud": {},
  "kernelspec": {
   "display_name": "Python 3",
   "language": "python",
   "name": "python3"
  },
  "language_info": {
   "codemirror_mode": {
    "name": "ipython",
    "version": 3
   },
   "file_extension": ".py",
   "mimetype": "text/x-python",
   "name": "python",
   "nbconvert_exporter": "python",
   "pygments_lexer": "ipython3",
   "version": "3.6.5"
  }
 },
 "nbformat": 4,
 "nbformat_minor": 2
}
